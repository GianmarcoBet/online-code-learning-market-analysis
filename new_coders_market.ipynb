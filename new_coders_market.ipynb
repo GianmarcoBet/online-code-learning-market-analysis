{
 "cells": [
  {
   "cell_type": "markdown",
   "metadata": {},
   "source": [
    "# Finding the best markets to advertise in\n",
    "\n",
    "An online learning company has a large portfolio of courses in web development, data science, and other topics. Our goal is to find the best markets to advertise the product in.\n",
    "\n",
    "For our analysis we will use data from the _freeCodeCamp's 2017 New Coder Survey_. This is significantly cheaper and more convenient than organizing a separate ad-hoc survey. The data can be downloaded from its [GitHub repository](https://github.com/freeCodeCamp/2017-new-coder-survey)."
   ]
  },
  {
   "cell_type": "code",
   "execution_count": 66,
   "metadata": {
    "collapsed": true
   },
   "outputs": [],
   "source": [
    "%matplotlib inline"
   ]
  },
  {
   "cell_type": "code",
   "execution_count": 79,
   "metadata": {
    "collapsed": false
   },
   "outputs": [
    {
     "name": "stderr",
     "output_type": "stream",
     "text": [
      "/dataquest/system/env/python3/lib/python3.4/site-packages/IPython/core/interactiveshell.py:2723: DtypeWarning: Columns (17,62) have mixed types. Specify dtype option on import or set low_memory=False.\n",
      "  interactivity=interactivity, compiler=compiler, result=result)\n"
     ]
    }
   ],
   "source": [
    "import pandas as pd\n",
    "survey = pd.read_csv('2017-fCC-New-Coders-Survey-Data.csv')"
   ]
  },
  {
   "cell_type": "code",
   "execution_count": 4,
   "metadata": {
    "collapsed": false
   },
   "outputs": [
    {
     "data": {
      "text/plain": [
       "(18175, 136)"
      ]
     },
     "execution_count": 4,
     "metadata": {},
     "output_type": "execute_result"
    }
   ],
   "source": [
    "survey.shape"
   ]
  },
  {
   "cell_type": "code",
   "execution_count": 5,
   "metadata": {
    "collapsed": false
   },
   "outputs": [
    {
     "data": {
      "text/html": [
       "<div>\n",
       "<style scoped>\n",
       "    .dataframe tbody tr th:only-of-type {\n",
       "        vertical-align: middle;\n",
       "    }\n",
       "\n",
       "    .dataframe tbody tr th {\n",
       "        vertical-align: top;\n",
       "    }\n",
       "\n",
       "    .dataframe thead th {\n",
       "        text-align: right;\n",
       "    }\n",
       "</style>\n",
       "<table border=\"1\" class=\"dataframe\">\n",
       "  <thead>\n",
       "    <tr style=\"text-align: right;\">\n",
       "      <th></th>\n",
       "      <th>Age</th>\n",
       "      <th>AttendedBootcamp</th>\n",
       "      <th>BootcampFinish</th>\n",
       "      <th>BootcampLoanYesNo</th>\n",
       "      <th>BootcampName</th>\n",
       "      <th>BootcampRecommend</th>\n",
       "      <th>ChildrenNumber</th>\n",
       "      <th>CityPopulation</th>\n",
       "      <th>CodeEventConferences</th>\n",
       "      <th>CodeEventDjangoGirls</th>\n",
       "      <th>...</th>\n",
       "      <th>YouTubeFCC</th>\n",
       "      <th>YouTubeFunFunFunction</th>\n",
       "      <th>YouTubeGoogleDev</th>\n",
       "      <th>YouTubeLearnCode</th>\n",
       "      <th>YouTubeLevelUpTuts</th>\n",
       "      <th>YouTubeMIT</th>\n",
       "      <th>YouTubeMozillaHacks</th>\n",
       "      <th>YouTubeOther</th>\n",
       "      <th>YouTubeSimplilearn</th>\n",
       "      <th>YouTubeTheNewBoston</th>\n",
       "    </tr>\n",
       "  </thead>\n",
       "  <tbody>\n",
       "    <tr>\n",
       "      <th>0</th>\n",
       "      <td>27.0</td>\n",
       "      <td>0.0</td>\n",
       "      <td>NaN</td>\n",
       "      <td>NaN</td>\n",
       "      <td>NaN</td>\n",
       "      <td>NaN</td>\n",
       "      <td>NaN</td>\n",
       "      <td>more than 1 million</td>\n",
       "      <td>NaN</td>\n",
       "      <td>NaN</td>\n",
       "      <td>...</td>\n",
       "      <td>NaN</td>\n",
       "      <td>NaN</td>\n",
       "      <td>NaN</td>\n",
       "      <td>NaN</td>\n",
       "      <td>NaN</td>\n",
       "      <td>NaN</td>\n",
       "      <td>NaN</td>\n",
       "      <td>NaN</td>\n",
       "      <td>NaN</td>\n",
       "      <td>NaN</td>\n",
       "    </tr>\n",
       "    <tr>\n",
       "      <th>1</th>\n",
       "      <td>34.0</td>\n",
       "      <td>0.0</td>\n",
       "      <td>NaN</td>\n",
       "      <td>NaN</td>\n",
       "      <td>NaN</td>\n",
       "      <td>NaN</td>\n",
       "      <td>NaN</td>\n",
       "      <td>less than 100,000</td>\n",
       "      <td>NaN</td>\n",
       "      <td>NaN</td>\n",
       "      <td>...</td>\n",
       "      <td>1.0</td>\n",
       "      <td>NaN</td>\n",
       "      <td>NaN</td>\n",
       "      <td>NaN</td>\n",
       "      <td>NaN</td>\n",
       "      <td>NaN</td>\n",
       "      <td>NaN</td>\n",
       "      <td>NaN</td>\n",
       "      <td>NaN</td>\n",
       "      <td>NaN</td>\n",
       "    </tr>\n",
       "    <tr>\n",
       "      <th>2</th>\n",
       "      <td>21.0</td>\n",
       "      <td>0.0</td>\n",
       "      <td>NaN</td>\n",
       "      <td>NaN</td>\n",
       "      <td>NaN</td>\n",
       "      <td>NaN</td>\n",
       "      <td>NaN</td>\n",
       "      <td>more than 1 million</td>\n",
       "      <td>NaN</td>\n",
       "      <td>NaN</td>\n",
       "      <td>...</td>\n",
       "      <td>NaN</td>\n",
       "      <td>NaN</td>\n",
       "      <td>NaN</td>\n",
       "      <td>1.0</td>\n",
       "      <td>1.0</td>\n",
       "      <td>NaN</td>\n",
       "      <td>NaN</td>\n",
       "      <td>NaN</td>\n",
       "      <td>NaN</td>\n",
       "      <td>NaN</td>\n",
       "    </tr>\n",
       "    <tr>\n",
       "      <th>3</th>\n",
       "      <td>26.0</td>\n",
       "      <td>0.0</td>\n",
       "      <td>NaN</td>\n",
       "      <td>NaN</td>\n",
       "      <td>NaN</td>\n",
       "      <td>NaN</td>\n",
       "      <td>NaN</td>\n",
       "      <td>between 100,000 and 1 million</td>\n",
       "      <td>NaN</td>\n",
       "      <td>NaN</td>\n",
       "      <td>...</td>\n",
       "      <td>1.0</td>\n",
       "      <td>1.0</td>\n",
       "      <td>NaN</td>\n",
       "      <td>NaN</td>\n",
       "      <td>1.0</td>\n",
       "      <td>NaN</td>\n",
       "      <td>NaN</td>\n",
       "      <td>NaN</td>\n",
       "      <td>NaN</td>\n",
       "      <td>NaN</td>\n",
       "    </tr>\n",
       "    <tr>\n",
       "      <th>4</th>\n",
       "      <td>20.0</td>\n",
       "      <td>0.0</td>\n",
       "      <td>NaN</td>\n",
       "      <td>NaN</td>\n",
       "      <td>NaN</td>\n",
       "      <td>NaN</td>\n",
       "      <td>NaN</td>\n",
       "      <td>between 100,000 and 1 million</td>\n",
       "      <td>NaN</td>\n",
       "      <td>NaN</td>\n",
       "      <td>...</td>\n",
       "      <td>NaN</td>\n",
       "      <td>NaN</td>\n",
       "      <td>NaN</td>\n",
       "      <td>NaN</td>\n",
       "      <td>NaN</td>\n",
       "      <td>NaN</td>\n",
       "      <td>NaN</td>\n",
       "      <td>NaN</td>\n",
       "      <td>NaN</td>\n",
       "      <td>NaN</td>\n",
       "    </tr>\n",
       "  </tbody>\n",
       "</table>\n",
       "<p>5 rows × 136 columns</p>\n",
       "</div>"
      ],
      "text/plain": [
       "    Age  AttendedBootcamp  BootcampFinish  BootcampLoanYesNo BootcampName  \\\n",
       "0  27.0               0.0             NaN                NaN          NaN   \n",
       "1  34.0               0.0             NaN                NaN          NaN   \n",
       "2  21.0               0.0             NaN                NaN          NaN   \n",
       "3  26.0               0.0             NaN                NaN          NaN   \n",
       "4  20.0               0.0             NaN                NaN          NaN   \n",
       "\n",
       "   BootcampRecommend  ChildrenNumber                 CityPopulation  \\\n",
       "0                NaN             NaN            more than 1 million   \n",
       "1                NaN             NaN              less than 100,000   \n",
       "2                NaN             NaN            more than 1 million   \n",
       "3                NaN             NaN  between 100,000 and 1 million   \n",
       "4                NaN             NaN  between 100,000 and 1 million   \n",
       "\n",
       "   CodeEventConferences  CodeEventDjangoGirls         ...           \\\n",
       "0                   NaN                   NaN         ...            \n",
       "1                   NaN                   NaN         ...            \n",
       "2                   NaN                   NaN         ...            \n",
       "3                   NaN                   NaN         ...            \n",
       "4                   NaN                   NaN         ...            \n",
       "\n",
       "   YouTubeFCC  YouTubeFunFunFunction  YouTubeGoogleDev  YouTubeLearnCode  \\\n",
       "0         NaN                    NaN               NaN               NaN   \n",
       "1         1.0                    NaN               NaN               NaN   \n",
       "2         NaN                    NaN               NaN               1.0   \n",
       "3         1.0                    1.0               NaN               NaN   \n",
       "4         NaN                    NaN               NaN               NaN   \n",
       "\n",
       "   YouTubeLevelUpTuts  YouTubeMIT  YouTubeMozillaHacks YouTubeOther  \\\n",
       "0                 NaN         NaN                  NaN          NaN   \n",
       "1                 NaN         NaN                  NaN          NaN   \n",
       "2                 1.0         NaN                  NaN          NaN   \n",
       "3                 1.0         NaN                  NaN          NaN   \n",
       "4                 NaN         NaN                  NaN          NaN   \n",
       "\n",
       "   YouTubeSimplilearn  YouTubeTheNewBoston  \n",
       "0                 NaN                  NaN  \n",
       "1                 NaN                  NaN  \n",
       "2                 NaN                  NaN  \n",
       "3                 NaN                  NaN  \n",
       "4                 NaN                  NaN  \n",
       "\n",
       "[5 rows x 136 columns]"
      ]
     },
     "execution_count": 5,
     "metadata": {},
     "output_type": "execute_result"
    }
   ],
   "source": [
    "survey.head()"
   ]
  },
  {
   "cell_type": "code",
   "execution_count": 13,
   "metadata": {
    "collapsed": false
   },
   "outputs": [
    {
     "data": {
      "text/plain": [
       "Full-Stack Web Developer                                                                                                                                                                                                                                                    11.770595\n",
       "  Front-End Web Developer                                                                                                                                                                                                                                                    6.435927\n",
       "  Data Scientist                                                                                                                                                                                                                                                             2.173913\n",
       "Back-End Web Developer                                                                                                                                                                                                                                                       2.030892\n",
       "  Mobile Developer                                                                                                                                                                                                                                                           1.673341\n",
       "Game Developer                                                                                                                                                                                                                                                               1.630435\n",
       "Information Security                                                                                                                                                                                                                                                         1.315789\n",
       "Full-Stack Web Developer,   Front-End Web Developer                                                                                                                                                                                                                          0.915332\n",
       "  Front-End Web Developer, Full-Stack Web Developer                                                                                                                                                                                                                          0.800915\n",
       "  Product Manager                                                                                                                                                                                                                                                            0.786613\n",
       "Data Engineer                                                                                                                                                                                                                                                                0.758009\n",
       "  User Experience Designer                                                                                                                                                                                                                                                   0.743707\n",
       "  User Experience Designer,   Front-End Web Developer                                                                                                                                                                                                                        0.614989\n",
       "  Front-End Web Developer, Back-End Web Developer, Full-Stack Web Developer                                                                                                                                                                                                  0.557780\n",
       "  DevOps / SysAdmin                                                                                                                                                                                                                                                          0.514874\n",
       "Back-End Web Developer,   Front-End Web Developer, Full-Stack Web Developer                                                                                                                                                                                                  0.514874\n",
       "Back-End Web Developer, Full-Stack Web Developer,   Front-End Web Developer                                                                                                                                                                                                  0.514874\n",
       "Full-Stack Web Developer,   Front-End Web Developer, Back-End Web Developer                                                                                                                                                                                                  0.443364\n",
       "  Front-End Web Developer, Full-Stack Web Developer, Back-End Web Developer                                                                                                                                                                                                  0.429062\n",
       "  Front-End Web Developer,   User Experience Designer                                                                                                                                                                                                                        0.414760\n",
       "Full-Stack Web Developer,   Mobile Developer                                                                                                                                                                                                                                 0.414760\n",
       "Back-End Web Developer, Full-Stack Web Developer                                                                                                                                                                                                                             0.386156\n",
       "Full-Stack Web Developer, Back-End Web Developer                                                                                                                                                                                                                             0.371854\n",
       "Back-End Web Developer,   Front-End Web Developer                                                                                                                                                                                                                            0.286041\n",
       "Data Engineer,   Data Scientist                                                                                                                                                                                                                                              0.271739\n",
       "Full-Stack Web Developer, Back-End Web Developer,   Front-End Web Developer                                                                                                                                                                                                  0.271739\n",
       "  Front-End Web Developer,   Mobile Developer                                                                                                                                                                                                                                0.257437\n",
       "Full-Stack Web Developer,   Data Scientist                                                                                                                                                                                                                                   0.243135\n",
       "  Data Scientist, Data Engineer                                                                                                                                                                                                                                              0.228833\n",
       "  Mobile Developer, Game Developer                                                                                                                                                                                                                                           0.228833\n",
       "                                                                                                                                                                                                                                                                              ...    \n",
       "Full-Stack Web Developer, Information Security, Back-End Web Developer, Data Engineer,   Mobile Developer,   Data Scientist,   DevOps / SysAdmin                                                                                                                             0.014302\n",
       "Information Security,   DevOps / SysAdmin, Full-Stack Web Developer,   Front-End Web Developer, Back-End Web Developer                                                                                                                                                       0.014302\n",
       "Full-Stack Web Developer,   Front-End Web Developer,   Data Scientist,   User Experience Designer, Back-End Web Developer                                                                                                                                                    0.014302\n",
       "  Data Scientist, Full-Stack Web Developer, Data Engineer, Game Developer, Back-End Web Developer,   Mobile Developer,   Front-End Web Developer                                                                                                                             0.014302\n",
       "  User Experience Designer,   Quality Assurance Engineer, Software Projects Manager                                                                                                                                                                                          0.014302\n",
       "Data Engineer,   Data Scientist,   DevOps / SysAdmin, Information Security, Back-End Web Developer, Full-Stack Web Developer,   Mobile Developer                                                                                                                             0.014302\n",
       "  Product Manager, Full-Stack Web Developer,   User Experience Designer,   Mobile Developer,   Quality Assurance Engineer                                                                                                                                                    0.014302\n",
       "Full-Stack Web Developer,   Data Scientist,   User Experience Designer                                                                                                                                                                                                       0.014302\n",
       "Full-Stack Web Developer, Back-End Web Developer,   User Experience Designer,   Front-End Web Developer,   Product Manager                                                                                                                                                   0.014302\n",
       "Information Security,   Mobile Developer,   Front-End Web Developer, Back-End Web Developer                                                                                                                                                                                  0.014302\n",
       "  Front-End Web Developer, Information Security,   DevOps / SysAdmin, Full-Stack Web Developer,   Quality Assurance Engineer, Back-End Web Developer,   Data Scientist,   User Experience Designer, Game Developer,   Product Manager,   Mobile Developer, Data Engineer     0.014302\n",
       "  Mobile Developer, Data Engineer, Game Developer,   User Experience Designer,   Quality Assurance Engineer,   Front-End Web Developer                                                                                                                                       0.014302\n",
       "Back-End Web Developer, Information Security,   DevOps / SysAdmin, Data Engineer,   Data Scientist,   Quality Assurance Engineer                                                                                                                                             0.014302\n",
       "Back-End Web Developer, Data Engineer,   Data Scientist, Information Security,   Mobile Developer,   Product Manager, Full-Stack Web Developer                                                                                                                               0.014302\n",
       "  Front-End Web Developer, Game Developer, Data Engineer,   Data Scientist, Back-End Web Developer, Full-Stack Web Developer                                                                                                                                                 0.014302\n",
       "  Data Scientist,   User Experience Designer, Data Engineer, Full-Stack Web Developer,   Front-End Web Developer                                                                                                                                                             0.014302\n",
       "  Quality Assurance Engineer,   Front-End Web Developer, Back-End Web Developer, Full-Stack Web Developer                                                                                                                                                                    0.014302\n",
       "  Mobile Developer,   User Experience Designer,   Front-End Web Developer, Back-End Web Developer                                                                                                                                                                            0.014302\n",
       "Back-End Web Developer, Full-Stack Web Developer,   Data Scientist,   Front-End Web Developer,   User Experience Designer, Data Engineer,   Mobile Developer, Machine Learning Engineer                                                                                      0.014302\n",
       "Game Developer, Full-Stack Web Developer,   Mobile Developer,   Front-End Web Developer,   Product Manager                                                                                                                                                                   0.014302\n",
       "  Product Manager,   Mobile Developer, Full-Stack Web Developer,   Quality Assurance Engineer,   Front-End Web Developer,   User Experience Designer                                                                                                                         0.014302\n",
       "Data Engineer,   Front-End Web Developer,   Mobile Developer, Full-Stack Web Developer,   Product Manager, Information Security,   Data Scientist, Back-End Web Developer                                                                                                    0.014302\n",
       "  Front-End Web Developer, Game Developer,   User Experience Designer,   Data Scientist, Full-Stack Web Developer                                                                                                                                                            0.014302\n",
       "Back-End Web Developer, Game Developer,   Mobile Developer, Full-Stack Web Developer,   Front-End Web Developer,   User Experience Designer                                                                                                                                  0.014302\n",
       "Back-End Web Developer,   Front-End Web Developer,   Product Manager, Information Security, Full-Stack Web Developer, Data Engineer,   DevOps / SysAdmin,   Mobile Developer                                                                                                 0.014302\n",
       "  Mobile Developer, Full-Stack Web Developer,   DevOps / SysAdmin                                                                                                                                                                                                            0.014302\n",
       "  Data Scientist,   Product Manager, Game Developer,   Front-End Web Developer, Full-Stack Web Developer, Data Engineer                                                                                                                                                      0.014302\n",
       "  Product Manager, Full-Stack Web Developer,   User Experience Designer,   Mobile Developer,   Front-End Web Developer,   DevOps / SysAdmin, Back-End Web Developer                                                                                                          0.014302\n",
       "  DevOps / SysAdmin, Game Developer, Full-Stack Web Developer, Information Security, Back-End Web Developer                                                                                                                                                                  0.014302\n",
       "  Front-End Web Developer, Information Security, Full-Stack Web Developer,   Data Scientist,   Mobile Developer, Back-End Web Developer, Game Developer                                                                                                                      0.014302\n",
       "Name: JobRoleInterest, Length: 3213, dtype: float64"
      ]
     },
     "execution_count": 13,
     "metadata": {},
     "output_type": "execute_result"
    }
   ],
   "source": [
    "survey['JobRoleInterest'].value_counts(normalize=True)*100"
   ]
  },
  {
   "cell_type": "markdown",
   "metadata": {},
   "source": [
    "We see that:\n",
    "* A sizeable number of students are interested in web development.\n",
    "* A smaller number of students are interested in mobile development.\n",
    "* Most students are interested in more than one career.\n",
    "\n",
    "Next, we produce a dictionary containing the frequency of unique job titles."
   ]
  },
  {
   "cell_type": "code",
   "execution_count": 20,
   "metadata": {
    "collapsed": false
   },
   "outputs": [],
   "source": [
    "unique_job_interest = {}\n",
    "\n",
    "for line in survey['JobRoleInterest'].dropna():\n",
    "    uniques = line.split(',')\n",
    "    for job in uniques:\n",
    "        job = job.lower().strip()\n",
    "\n",
    "        if job in unique_job_interest:\n",
    "            unique_job_interest[job] += 1\n",
    "        elif job not in unique_job_interest:\n",
    "            unique_job_interest[job] = 1    "
   ]
  },
  {
   "cell_type": "code",
   "execution_count": 45,
   "metadata": {
    "collapsed": false
   },
   "outputs": [
    {
     "data": {
      "text/plain": [
       "(193,)"
      ]
     },
     "execution_count": 45,
     "metadata": {},
     "output_type": "execute_result"
    }
   ],
   "source": [
    "unique_job = pd.Series(unique_job_interest)\n",
    "unique_job.shape"
   ]
  },
  {
   "cell_type": "code",
   "execution_count": 47,
   "metadata": {
    "collapsed": false
   },
   "outputs": [
    {
     "data": {
      "text/plain": [
       "full-stack web developer                                                                     4198\n",
       "front-end web developer                                                                      3533\n",
       "back-end web developer                                                                       2772\n",
       "mobile developer                                                                             2305\n",
       "data scientist                                                                               1643\n",
       "game developer                                                                               1628\n",
       "user experience designer                                                                     1469\n",
       "information security                                                                         1326\n",
       "data engineer                                                                                1248\n",
       "devops / sysadmin                                                                             927\n",
       "product manager                                                                               814\n",
       "quality assurance engineer                                                                    498\n",
       "software engineer                                                                              16\n",
       "software developer                                                                              8\n",
       "artificial intelligence                                                                         5\n",
       "data analyst                                                                                    5\n",
       "machine learning engineer                                                                       4\n",
       "programmer                                                                                      4\n",
       "desktop application developer                                                                   3\n",
       "not sure                                                                                        3\n",
       "project manager                                                                                 3\n",
       "not sure yet                                                                                    3\n",
       "java developer                                                                                  2\n",
       "business analyst                                                                                2\n",
       "web designer                                                                                    2\n",
       "product designer                                                                                2\n",
       "ethical hacker                                                                                  2\n",
       "user interface designer                                                                         2\n",
       "artificial intelligence engineer                                                                2\n",
       "researcher                                                                                      2\n",
       "                                                                                             ... \n",
       "web developer                                                                                   1\n",
       "iot developer                                                                                   1\n",
       "iot                                                                                             1\n",
       "infrastructure architect                                                                        1\n",
       "information technology                                                                          1\n",
       "information developer                                                                           1\n",
       "information architect                                                                           1\n",
       "informatician                                                                                   1\n",
       "network                                                                                         1\n",
       "network admin                                                                                   1\n",
       "network engineer                                                                                1\n",
       "networking                                                                                      1\n",
       "research and education                                                                          1\n",
       "remote support                                                                                  1\n",
       "real-time systems                                                                               1\n",
       "quant (algorithmic trader)                                                                      1\n",
       "python developer                                                                                1\n",
       "project management                                                                              1\n",
       "programming                                                                                     1\n",
       "program manager                                                                                 1\n",
       "plc                                                                                             1\n",
       "physicist                                                                                       1\n",
       "philosopher                                                                                     1\n",
       "pharmacy tech                                                                                   1\n",
       "pharmaceutical industry                                                                         1\n",
       "operating systems                                                                               1\n",
       "not sure!                                                                                       1\n",
       "non-programmer                                                                                  1\n",
       "non technical                                                                                   1\n",
       "a job in which i can use coding skills to create valuable portals to advance human rights       1\n",
       "Length: 193, dtype: int64"
      ]
     },
     "execution_count": 47,
     "metadata": {},
     "output_type": "execute_result"
    }
   ],
   "source": [
    "unique_job.sort_values(ascending=False)"
   ]
  },
  {
   "cell_type": "code",
   "execution_count": 49,
   "metadata": {
    "collapsed": false
   },
   "outputs": [
    {
     "data": {
      "text/plain": [
       "full-stack web developer                                                                     18.575221\n",
       "front-end web developer                                                                      15.632743\n",
       "back-end web developer                                                                       12.265487\n",
       "mobile developer                                                                             10.199115\n",
       "data scientist                                                                                7.269912\n",
       "game developer                                                                                7.203540\n",
       "user experience designer                                                                      6.500000\n",
       "information security                                                                          5.867257\n",
       "data engineer                                                                                 5.522124\n",
       "devops / sysadmin                                                                             4.101770\n",
       "product manager                                                                               3.601770\n",
       "quality assurance engineer                                                                    2.203540\n",
       "software engineer                                                                             0.070796\n",
       "software developer                                                                            0.035398\n",
       "artificial intelligence                                                                       0.022124\n",
       "data analyst                                                                                  0.022124\n",
       "machine learning engineer                                                                     0.017699\n",
       "programmer                                                                                    0.017699\n",
       "desktop application developer                                                                 0.013274\n",
       "not sure                                                                                      0.013274\n",
       "project manager                                                                               0.013274\n",
       "not sure yet                                                                                  0.013274\n",
       "java developer                                                                                0.008850\n",
       "business analyst                                                                              0.008850\n",
       "web designer                                                                                  0.008850\n",
       "product designer                                                                              0.008850\n",
       "ethical hacker                                                                                0.008850\n",
       "user interface designer                                                                       0.008850\n",
       "artificial intelligence engineer                                                              0.008850\n",
       "researcher                                                                                    0.008850\n",
       "                                                                                               ...    \n",
       "web developer                                                                                 0.004425\n",
       "iot developer                                                                                 0.004425\n",
       "iot                                                                                           0.004425\n",
       "infrastructure architect                                                                      0.004425\n",
       "information technology                                                                        0.004425\n",
       "information developer                                                                         0.004425\n",
       "information architect                                                                         0.004425\n",
       "informatician                                                                                 0.004425\n",
       "network                                                                                       0.004425\n",
       "network admin                                                                                 0.004425\n",
       "network engineer                                                                              0.004425\n",
       "networking                                                                                    0.004425\n",
       "research and education                                                                        0.004425\n",
       "remote support                                                                                0.004425\n",
       "real-time systems                                                                             0.004425\n",
       "quant (algorithmic trader)                                                                    0.004425\n",
       "python developer                                                                              0.004425\n",
       "project management                                                                            0.004425\n",
       "programming                                                                                   0.004425\n",
       "program manager                                                                               0.004425\n",
       "plc                                                                                           0.004425\n",
       "physicist                                                                                     0.004425\n",
       "philosopher                                                                                   0.004425\n",
       "pharmacy tech                                                                                 0.004425\n",
       "pharmaceutical industry                                                                       0.004425\n",
       "operating systems                                                                             0.004425\n",
       "not sure!                                                                                     0.004425\n",
       "non-programmer                                                                                0.004425\n",
       "non technical                                                                                 0.004425\n",
       "a job in which i can use coding skills to create valuable portals to advance human rights     0.004425\n",
       "Length: 193, dtype: float64"
      ]
     },
     "execution_count": 49,
     "metadata": {},
     "output_type": "execute_result"
    }
   ],
   "source": [
    "# Computing percentages\n",
    "unique_job.sort_values(ascending=False) /sum(unique_job) * 100"
   ]
  },
  {
   "cell_type": "markdown",
   "metadata": {},
   "source": [
    "There are roughly 193 unique desired professions (there are some repetitions). \n",
    "\n",
    "Moreover:\n",
    "* Approximately 45% of the desired professions involve web development (top 3 desired professions)\n",
    "* Mobile development represents 10.2% of the desired professions.\n",
    "\n",
    "Next we investigate how many people expressed one preference vs how many expressed more than one."
   ]
  },
  {
   "cell_type": "code",
   "execution_count": 50,
   "metadata": {
    "collapsed": true
   },
   "outputs": [],
   "source": [
    "nr_unique_job_interest = {}\n",
    "\n",
    "for line in survey['JobRoleInterest'].dropna():\n",
    "    nr_uniques = len(line.split(','))\n",
    "    if nr_uniques not in nr_unique_job_interest:\n",
    "        nr_unique_job_interest[nr_uniques] = 1\n",
    "    elif nr_uniques in nr_unique_job_interest:\n",
    "        nr_unique_job_interest[nr_uniques] += 1"
   ]
  },
  {
   "cell_type": "code",
   "execution_count": 53,
   "metadata": {
    "collapsed": false
   },
   "outputs": [
    {
     "data": {
      "text/plain": [
       "1     2213\n",
       "2      761\n",
       "3     1111\n",
       "4     1064\n",
       "5      842\n",
       "6      470\n",
       "7      270\n",
       "8      123\n",
       "9       69\n",
       "10      33\n",
       "11      13\n",
       "12      21\n",
       "13       2\n",
       "dtype: int64"
      ]
     },
     "execution_count": 53,
     "metadata": {},
     "output_type": "execute_result"
    }
   ],
   "source": [
    "nr_unique_job = pd.Series(nr_unique_job_interest)\n",
    "nr_unique_job"
   ]
  },
  {
   "cell_type": "code",
   "execution_count": 54,
   "metadata": {
    "collapsed": false
   },
   "outputs": [
    {
     "data": {
      "text/plain": [
       "1     31.650458\n",
       "2     10.883867\n",
       "3     15.889588\n",
       "4     15.217391\n",
       "5     12.042334\n",
       "6      6.721968\n",
       "7      3.861556\n",
       "8      1.759153\n",
       "9      0.986842\n",
       "10     0.471968\n",
       "11     0.185927\n",
       "12     0.300343\n",
       "13     0.028604\n",
       "dtype: float64"
      ]
     },
     "execution_count": 54,
     "metadata": {},
     "output_type": "execute_result"
    }
   ],
   "source": [
    "# Computing percentages\n",
    "\n",
    "nr_unique_job / sum(nr_unique_job)*100"
   ]
  },
  {
   "cell_type": "markdown",
   "metadata": {},
   "source": [
    "We see that more than 30% of the students have expressed only one preference. Next we isolate the students that have expressed only one preference and study those."
   ]
  },
  {
   "cell_type": "code",
   "execution_count": 32,
   "metadata": {
    "collapsed": false
   },
   "outputs": [],
   "source": [
    "logical_index = survey['JobRoleInterest'].fillna('don\\'t know').str.split(',').apply(len) == 1\n",
    "one_preference = survey[logical_index].dropna(axis=0, subset=['JobRoleInterest'])"
   ]
  },
  {
   "cell_type": "code",
   "execution_count": 33,
   "metadata": {
    "collapsed": false
   },
   "outputs": [
    {
     "data": {
      "text/plain": [
       "Full-Stack Web Developer                                                          37.189336\n",
       "  Front-End Web Developer                                                         20.334388\n",
       "  Data Scientist                                                                   6.868504\n",
       "Back-End Web Developer                                                             6.416629\n",
       "  Mobile Developer                                                                 5.286941\n",
       "Game Developer                                                                     5.151378\n",
       "Information Security                                                               4.157253\n",
       "  Product Manager                                                                  2.485314\n",
       "Data Engineer                                                                      2.394939\n",
       "  User Experience Designer                                                         2.349751\n",
       "  DevOps / SysAdmin                                                                1.626751\n",
       "  Quality Assurance Engineer                                                       0.677813\n",
       "Software Engineer                                                                  0.225938\n",
       "Software Developer                                                                 0.180750\n",
       "Not sure yet                                                                       0.090375\n",
       "Not sure                                                                           0.090375\n",
       "undecided                                                                          0.090375\n",
       "Unsure                                                                             0.090375\n",
       "Artificial Intelligence                                                            0.090375\n",
       "Marketing Automation                                                               0.045188\n",
       "Technology Management                                                              0.045188\n",
       "idk                                                                                0.045188\n",
       "GIS Developer                                                                      0.045188\n",
       "Embedded hardware                                                                  0.045188\n",
       "Software Developper                                                                0.045188\n",
       "non-programmer                                                                     0.045188\n",
       "AI Developer                                                                       0.045188\n",
       "Data/Interactive Journalist                                                        0.045188\n",
       "Data Reporter                                                                      0.045188\n",
       "I don't know yet!                                                                  0.045188\n",
       "                                                                                    ...    \n",
       "Software engineer                                                                  0.045188\n",
       "Cloud computing                                                                    0.045188\n",
       "College professor                                                                  0.045188\n",
       "Web developer                                                                      0.045188\n",
       "Financial Services                                                                 0.045188\n",
       "Any of them.                                                                       0.045188\n",
       "Real-time systems                                                                  0.045188\n",
       "software developer                                                                 0.045188\n",
       "Project manager                                                                    0.045188\n",
       "Not Sure                                                                           0.045188\n",
       "Systems Programmer                                                                 0.045188\n",
       "Urban Planner                                                                      0.045188\n",
       "I'm just learning code to increase my skill-set. I see it as a literacy issue.     0.045188\n",
       "Desings                                                                            0.045188\n",
       "Desktop Applications                                                               0.045188\n",
       "Ceo                                                                                0.045188\n",
       "Information Developer                                                              0.045188\n",
       "i don't know what the difference is between most of these soz lol                  0.045188\n",
       "Research                                                                           0.045188\n",
       "lab scientist                                                                      0.045188\n",
       "VR Technology developer                                                            0.045188\n",
       "IoT Developer                                                                      0.045188\n",
       "Research                                                                           0.045188\n",
       "Pharmaceutical industry                                                            0.045188\n",
       "Network                                                                            0.045188\n",
       "Digital Humanitites                                                                0.045188\n",
       "programmer                                                                         0.045188\n",
       "Machine learning engineer                                                          0.045188\n",
       "Natural Language Processing                                                        0.045188\n",
       "Ethical Hacker                                                                     0.045188\n",
       "Name: JobRoleInterest, Length: 112, dtype: float64"
      ]
     },
     "execution_count": 33,
     "metadata": {},
     "output_type": "execute_result"
    }
   ],
   "source": [
    "one_preference['JobRoleInterest'].value_counts(normalize=True)*100"
   ]
  },
  {
   "cell_type": "markdown",
   "metadata": {
    "collapsed": true
   },
   "source": [
    "In this context we find again that a large proportion of students (~64%) wants to work in web development. A smaller proportion (~5%) wants to work in mobile development. Finally, we visualize this."
   ]
  },
  {
   "cell_type": "code",
   "execution_count": 71,
   "metadata": {
    "collapsed": false
   },
   "outputs": [],
   "source": [
    "import matplotlib.pyplot as plt\n",
    "plt.style.use('fivethirtyeight')\n",
    "\n",
    "web_mobile = one_preference['JobRoleInterest'].str.contains('[Ww]eb [Dd]eveloper|[Mm]obile [Dd]eveloper')"
   ]
  },
  {
   "cell_type": "code",
   "execution_count": 72,
   "metadata": {
    "collapsed": false
   },
   "outputs": [
    {
     "data": {
      "text/plain": [
       "([<matplotlib.axis.XTick at 0x7f2216887ef0>,\n",
       "  <matplotlib.axis.XTick at 0x7f2216cde1d0>],\n",
       " <a list of 2 Text xticklabel objects>)"
      ]
     },
     "execution_count": 72,
     "metadata": {},
     "output_type": "execute_result"
    },
    {
     "data": {
      "image/png": "[encoded data removed]",
      "text/plain": [
       "<matplotlib.figure.Figure at 0x7f2216ef9630>"
      ]
     },
     "metadata": {},
     "output_type": "display_data"
    }
   ],
   "source": [
    "web_mobile.value_counts(normalize=True).apply(lambda x: x*100).plot.bar()\n",
    "plt.title('Web and mobile development courses\\n are the most popular', y=1.05)\n",
    "plt.ylabel('Percentage')\n",
    "plt.xticks([0,1], ['Web or\\n Mobile Development', 'Others'], rotation = 0)"
   ]
  },
  {
   "cell_type": "markdown",
   "metadata": {},
   "source": [
    "Next, we analyze the data to determine the best market (i.e. country) to advertise the online courses in. We begin by computing a frequency table."
   ]
  },
  {
   "cell_type": "code",
   "execution_count": 74,
   "metadata": {
    "collapsed": true
   },
   "outputs": [],
   "source": [
    "clean_survey = survey.dropna(axis=0, subset=['JobRoleInterest'])"
   ]
  },
  {
   "cell_type": "code",
   "execution_count": 78,
   "metadata": {
    "collapsed": false
   },
   "outputs": [
    {
     "data": {
      "text/html": [
       "<div>\n",
       "<style scoped>\n",
       "    .dataframe tbody tr th:only-of-type {\n",
       "        vertical-align: middle;\n",
       "    }\n",
       "\n",
       "    .dataframe tbody tr th {\n",
       "        vertical-align: top;\n",
       "    }\n",
       "\n",
       "    .dataframe thead th {\n",
       "        text-align: right;\n",
       "    }\n",
       "</style>\n",
       "<table border=\"1\" class=\"dataframe\">\n",
       "  <thead>\n",
       "    <tr style=\"text-align: right;\">\n",
       "      <th></th>\n",
       "      <th>Absolute frequencies</th>\n",
       "      <th>Relative frequencies</th>\n",
       "    </tr>\n",
       "  </thead>\n",
       "  <tbody>\n",
       "    <tr>\n",
       "      <th>United States of America</th>\n",
       "      <td>3125</td>\n",
       "      <td>45.700497</td>\n",
       "    </tr>\n",
       "    <tr>\n",
       "      <th>India</th>\n",
       "      <td>528</td>\n",
       "      <td>7.721556</td>\n",
       "    </tr>\n",
       "    <tr>\n",
       "      <th>United Kingdom</th>\n",
       "      <td>315</td>\n",
       "      <td>4.606610</td>\n",
       "    </tr>\n",
       "    <tr>\n",
       "      <th>Canada</th>\n",
       "      <td>260</td>\n",
       "      <td>3.802281</td>\n",
       "    </tr>\n",
       "    <tr>\n",
       "      <th>Poland</th>\n",
       "      <td>131</td>\n",
       "      <td>1.915765</td>\n",
       "    </tr>\n",
       "    <tr>\n",
       "      <th>Brazil</th>\n",
       "      <td>129</td>\n",
       "      <td>1.886517</td>\n",
       "    </tr>\n",
       "    <tr>\n",
       "      <th>Germany</th>\n",
       "      <td>125</td>\n",
       "      <td>1.828020</td>\n",
       "    </tr>\n",
       "    <tr>\n",
       "      <th>Australia</th>\n",
       "      <td>112</td>\n",
       "      <td>1.637906</td>\n",
       "    </tr>\n",
       "    <tr>\n",
       "      <th>Russia</th>\n",
       "      <td>102</td>\n",
       "      <td>1.491664</td>\n",
       "    </tr>\n",
       "    <tr>\n",
       "      <th>Ukraine</th>\n",
       "      <td>89</td>\n",
       "      <td>1.301550</td>\n",
       "    </tr>\n",
       "    <tr>\n",
       "      <th>Nigeria</th>\n",
       "      <td>84</td>\n",
       "      <td>1.228429</td>\n",
       "    </tr>\n",
       "    <tr>\n",
       "      <th>Spain</th>\n",
       "      <td>77</td>\n",
       "      <td>1.126060</td>\n",
       "    </tr>\n",
       "    <tr>\n",
       "      <th>France</th>\n",
       "      <td>75</td>\n",
       "      <td>1.096812</td>\n",
       "    </tr>\n",
       "    <tr>\n",
       "      <th>Romania</th>\n",
       "      <td>71</td>\n",
       "      <td>1.038315</td>\n",
       "    </tr>\n",
       "    <tr>\n",
       "      <th>Netherlands (Holland, Europe)</th>\n",
       "      <td>65</td>\n",
       "      <td>0.950570</td>\n",
       "    </tr>\n",
       "    <tr>\n",
       "      <th>Italy</th>\n",
       "      <td>62</td>\n",
       "      <td>0.906698</td>\n",
       "    </tr>\n",
       "    <tr>\n",
       "      <th>Philippines</th>\n",
       "      <td>52</td>\n",
       "      <td>0.760456</td>\n",
       "    </tr>\n",
       "    <tr>\n",
       "      <th>Serbia</th>\n",
       "      <td>52</td>\n",
       "      <td>0.760456</td>\n",
       "    </tr>\n",
       "    <tr>\n",
       "      <th>Greece</th>\n",
       "      <td>46</td>\n",
       "      <td>0.672711</td>\n",
       "    </tr>\n",
       "    <tr>\n",
       "      <th>Ireland</th>\n",
       "      <td>43</td>\n",
       "      <td>0.628839</td>\n",
       "    </tr>\n",
       "    <tr>\n",
       "      <th>South Africa</th>\n",
       "      <td>39</td>\n",
       "      <td>0.570342</td>\n",
       "    </tr>\n",
       "    <tr>\n",
       "      <th>Mexico</th>\n",
       "      <td>37</td>\n",
       "      <td>0.541094</td>\n",
       "    </tr>\n",
       "    <tr>\n",
       "      <th>Turkey</th>\n",
       "      <td>36</td>\n",
       "      <td>0.526470</td>\n",
       "    </tr>\n",
       "    <tr>\n",
       "      <th>Hungary</th>\n",
       "      <td>34</td>\n",
       "      <td>0.497221</td>\n",
       "    </tr>\n",
       "    <tr>\n",
       "      <th>Singapore</th>\n",
       "      <td>34</td>\n",
       "      <td>0.497221</td>\n",
       "    </tr>\n",
       "    <tr>\n",
       "      <th>New Zealand</th>\n",
       "      <td>33</td>\n",
       "      <td>0.482597</td>\n",
       "    </tr>\n",
       "    <tr>\n",
       "      <th>Croatia</th>\n",
       "      <td>32</td>\n",
       "      <td>0.467973</td>\n",
       "    </tr>\n",
       "    <tr>\n",
       "      <th>Argentina</th>\n",
       "      <td>32</td>\n",
       "      <td>0.467973</td>\n",
       "    </tr>\n",
       "    <tr>\n",
       "      <th>Norway</th>\n",
       "      <td>31</td>\n",
       "      <td>0.453349</td>\n",
       "    </tr>\n",
       "    <tr>\n",
       "      <th>Pakistan</th>\n",
       "      <td>31</td>\n",
       "      <td>0.453349</td>\n",
       "    </tr>\n",
       "    <tr>\n",
       "      <th>...</th>\n",
       "      <td>...</td>\n",
       "      <td>...</td>\n",
       "    </tr>\n",
       "    <tr>\n",
       "      <th>Mozambique</th>\n",
       "      <td>1</td>\n",
       "      <td>0.014624</td>\n",
       "    </tr>\n",
       "    <tr>\n",
       "      <th>Jordan</th>\n",
       "      <td>1</td>\n",
       "      <td>0.014624</td>\n",
       "    </tr>\n",
       "    <tr>\n",
       "      <th>Turkmenistan</th>\n",
       "      <td>1</td>\n",
       "      <td>0.014624</td>\n",
       "    </tr>\n",
       "    <tr>\n",
       "      <th>Cameroon</th>\n",
       "      <td>1</td>\n",
       "      <td>0.014624</td>\n",
       "    </tr>\n",
       "    <tr>\n",
       "      <th>Channel Islands</th>\n",
       "      <td>1</td>\n",
       "      <td>0.014624</td>\n",
       "    </tr>\n",
       "    <tr>\n",
       "      <th>Qatar</th>\n",
       "      <td>1</td>\n",
       "      <td>0.014624</td>\n",
       "    </tr>\n",
       "    <tr>\n",
       "      <th>Trinidad &amp; Tobago</th>\n",
       "      <td>1</td>\n",
       "      <td>0.014624</td>\n",
       "    </tr>\n",
       "    <tr>\n",
       "      <th>Rwanda</th>\n",
       "      <td>1</td>\n",
       "      <td>0.014624</td>\n",
       "    </tr>\n",
       "    <tr>\n",
       "      <th>Panama</th>\n",
       "      <td>1</td>\n",
       "      <td>0.014624</td>\n",
       "    </tr>\n",
       "    <tr>\n",
       "      <th>Guadeloupe</th>\n",
       "      <td>1</td>\n",
       "      <td>0.014624</td>\n",
       "    </tr>\n",
       "    <tr>\n",
       "      <th>Gibraltar</th>\n",
       "      <td>1</td>\n",
       "      <td>0.014624</td>\n",
       "    </tr>\n",
       "    <tr>\n",
       "      <th>Yemen</th>\n",
       "      <td>1</td>\n",
       "      <td>0.014624</td>\n",
       "    </tr>\n",
       "    <tr>\n",
       "      <th>Botswana</th>\n",
       "      <td>1</td>\n",
       "      <td>0.014624</td>\n",
       "    </tr>\n",
       "    <tr>\n",
       "      <th>Kyrgyzstan</th>\n",
       "      <td>1</td>\n",
       "      <td>0.014624</td>\n",
       "    </tr>\n",
       "    <tr>\n",
       "      <th>Liberia</th>\n",
       "      <td>1</td>\n",
       "      <td>0.014624</td>\n",
       "    </tr>\n",
       "    <tr>\n",
       "      <th>Aruba</th>\n",
       "      <td>1</td>\n",
       "      <td>0.014624</td>\n",
       "    </tr>\n",
       "    <tr>\n",
       "      <th>Samoa</th>\n",
       "      <td>1</td>\n",
       "      <td>0.014624</td>\n",
       "    </tr>\n",
       "    <tr>\n",
       "      <th>Cayman Islands</th>\n",
       "      <td>1</td>\n",
       "      <td>0.014624</td>\n",
       "    </tr>\n",
       "    <tr>\n",
       "      <th>Bolivia</th>\n",
       "      <td>1</td>\n",
       "      <td>0.014624</td>\n",
       "    </tr>\n",
       "    <tr>\n",
       "      <th>Guatemala</th>\n",
       "      <td>1</td>\n",
       "      <td>0.014624</td>\n",
       "    </tr>\n",
       "    <tr>\n",
       "      <th>Nicaragua</th>\n",
       "      <td>1</td>\n",
       "      <td>0.014624</td>\n",
       "    </tr>\n",
       "    <tr>\n",
       "      <th>Somalia</th>\n",
       "      <td>1</td>\n",
       "      <td>0.014624</td>\n",
       "    </tr>\n",
       "    <tr>\n",
       "      <th>Sudan</th>\n",
       "      <td>1</td>\n",
       "      <td>0.014624</td>\n",
       "    </tr>\n",
       "    <tr>\n",
       "      <th>Gambia</th>\n",
       "      <td>1</td>\n",
       "      <td>0.014624</td>\n",
       "    </tr>\n",
       "    <tr>\n",
       "      <th>Papua New Guinea</th>\n",
       "      <td>1</td>\n",
       "      <td>0.014624</td>\n",
       "    </tr>\n",
       "    <tr>\n",
       "      <th>Myanmar</th>\n",
       "      <td>1</td>\n",
       "      <td>0.014624</td>\n",
       "    </tr>\n",
       "    <tr>\n",
       "      <th>Nambia</th>\n",
       "      <td>1</td>\n",
       "      <td>0.014624</td>\n",
       "    </tr>\n",
       "    <tr>\n",
       "      <th>Anguilla</th>\n",
       "      <td>1</td>\n",
       "      <td>0.014624</td>\n",
       "    </tr>\n",
       "    <tr>\n",
       "      <th>Angola</th>\n",
       "      <td>1</td>\n",
       "      <td>0.014624</td>\n",
       "    </tr>\n",
       "    <tr>\n",
       "      <th>Cuba</th>\n",
       "      <td>1</td>\n",
       "      <td>0.014624</td>\n",
       "    </tr>\n",
       "  </tbody>\n",
       "</table>\n",
       "<p>137 rows × 2 columns</p>\n",
       "</div>"
      ],
      "text/plain": [
       "                               Absolute frequencies  Relative frequencies\n",
       "United States of America                       3125             45.700497\n",
       "India                                           528              7.721556\n",
       "United Kingdom                                  315              4.606610\n",
       "Canada                                          260              3.802281\n",
       "Poland                                          131              1.915765\n",
       "Brazil                                          129              1.886517\n",
       "Germany                                         125              1.828020\n",
       "Australia                                       112              1.637906\n",
       "Russia                                          102              1.491664\n",
       "Ukraine                                          89              1.301550\n",
       "Nigeria                                          84              1.228429\n",
       "Spain                                            77              1.126060\n",
       "France                                           75              1.096812\n",
       "Romania                                          71              1.038315\n",
       "Netherlands (Holland, Europe)                    65              0.950570\n",
       "Italy                                            62              0.906698\n",
       "Philippines                                      52              0.760456\n",
       "Serbia                                           52              0.760456\n",
       "Greece                                           46              0.672711\n",
       "Ireland                                          43              0.628839\n",
       "South Africa                                     39              0.570342\n",
       "Mexico                                           37              0.541094\n",
       "Turkey                                           36              0.526470\n",
       "Hungary                                          34              0.497221\n",
       "Singapore                                        34              0.497221\n",
       "New Zealand                                      33              0.482597\n",
       "Croatia                                          32              0.467973\n",
       "Argentina                                        32              0.467973\n",
       "Norway                                           31              0.453349\n",
       "Pakistan                                         31              0.453349\n",
       "...                                             ...                   ...\n",
       "Mozambique                                        1              0.014624\n",
       "Jordan                                            1              0.014624\n",
       "Turkmenistan                                      1              0.014624\n",
       "Cameroon                                          1              0.014624\n",
       "Channel Islands                                   1              0.014624\n",
       "Qatar                                             1              0.014624\n",
       "Trinidad & Tobago                                 1              0.014624\n",
       "Rwanda                                            1              0.014624\n",
       "Panama                                            1              0.014624\n",
       "Guadeloupe                                        1              0.014624\n",
       "Gibraltar                                         1              0.014624\n",
       "Yemen                                             1              0.014624\n",
       "Botswana                                          1              0.014624\n",
       "Kyrgyzstan                                        1              0.014624\n",
       "Liberia                                           1              0.014624\n",
       "Aruba                                             1              0.014624\n",
       "Samoa                                             1              0.014624\n",
       "Cayman Islands                                    1              0.014624\n",
       "Bolivia                                           1              0.014624\n",
       "Guatemala                                         1              0.014624\n",
       "Nicaragua                                         1              0.014624\n",
       "Somalia                                           1              0.014624\n",
       "Sudan                                             1              0.014624\n",
       "Gambia                                            1              0.014624\n",
       "Papua New Guinea                                  1              0.014624\n",
       "Myanmar                                           1              0.014624\n",
       "Nambia                                            1              0.014624\n",
       "Anguilla                                          1              0.014624\n",
       "Angola                                            1              0.014624\n",
       "Cuba                                              1              0.014624\n",
       "\n",
       "[137 rows x 2 columns]"
      ]
     },
     "execution_count": 78,
     "metadata": {},
     "output_type": "execute_result"
    }
   ],
   "source": [
    "absolute_frequencies = clean_survey['CountryLive'].value_counts()\n",
    "relative_frequencies = clean_survey['CountryLive'].value_counts(normalize=True)*100\n",
    "\n",
    "pd.DataFrame(data = {'Absolute frequencies': absolute_frequencies, 'Relative frequencies': relative_frequencies})"
   ]
  },
  {
   "cell_type": "markdown",
   "metadata": {},
   "source": [
    "The two biggest markets are decidedly the USA and India. This suggets that marketing should be focus on the USE and India. However, we need to take into account how much students are willing to spend on learning. This is what we do next.\n",
    "\n",
    "We replace the value 0 in the _MonthsProgramming_ column with 1 in order to be able to compute the amount of money spent per month."
   ]
  },
  {
   "cell_type": "code",
   "execution_count": 85,
   "metadata": {
    "collapsed": false
   },
   "outputs": [],
   "source": [
    "clean_survey['MonthsProgramming'].replace(0,1,inplace=True)\n",
    "clean_survey['MoneyPerMonth'] = clean_survey['MoneyForLearning'] / clean_survey['MonthsProgramming']"
   ]
  },
  {
   "cell_type": "code",
   "execution_count": 92,
   "metadata": {
    "collapsed": false
   },
   "outputs": [],
   "source": [
    "clean_survey.dropna(subset=['CountryLive'], inplace=True)"
   ]
  },
  {
   "cell_type": "code",
   "execution_count": 96,
   "metadata": {
    "collapsed": false
   },
   "outputs": [
    {
     "data": {
      "text/plain": [
       "CountryLive\n",
       "Afghanistan                     0.000000\n",
       "Albania                         7.111111\n",
       "Algeria                         0.000000\n",
       "Angola                        116.666667\n",
       "Anguilla                        0.000000\n",
       "Argentina                      55.984444\n",
       "Aruba                                NaN\n",
       "Australia                     419.268452\n",
       "Austria                       936.208333\n",
       "Azerbaijan                     25.555556\n",
       "Bahrain                         0.000000\n",
       "Bangladesh                    239.361883\n",
       "Belarus                        21.323854\n",
       "Belgium                        53.774510\n",
       "Bolivia                              NaN\n",
       "Bosnia & Herzegovina           19.807540\n",
       "Botswana                        0.000000\n",
       "Brazil                         56.239402\n",
       "Bulgaria                       75.833333\n",
       "Cambodia                       10.079365\n",
       "Cameroon                        0.946970\n",
       "Canada                        113.510961\n",
       "Cayman Islands                  0.000000\n",
       "Channel Islands                 0.000000\n",
       "Chile                         300.416667\n",
       "China                         236.441270\n",
       "Colombia                       60.399660\n",
       "Costa Rica                     28.111111\n",
       "Croatia                        31.674298\n",
       "Cuba                            0.000000\n",
       "                                ...     \n",
       "Serbia                         77.626263\n",
       "Singapore                      51.618774\n",
       "Slovakia                       29.738095\n",
       "Slovenia                       18.425926\n",
       "Somalia                       150.000000\n",
       "South Africa                   75.043561\n",
       "Spain                         784.553084\n",
       "Sri Lanka                      26.607143\n",
       "Sudan                                NaN\n",
       "Sweden                         35.413206\n",
       "Switzerland                    35.530045\n",
       "Taiwan                        417.966524\n",
       "Thailand                       11.166314\n",
       "Trinidad & Tobago             500.000000\n",
       "Tunisia                        18.000000\n",
       "Turkey                         71.451613\n",
       "Turkmenistan                    0.000000\n",
       "Uganda                        276.620370\n",
       "Ukraine                        54.314874\n",
       "United Arab Emirates           94.583333\n",
       "United Kingdom                 45.534443\n",
       "United States of America      227.997996\n",
       "Uruguay                         8.333333\n",
       "Uzbekistan                      3.333333\n",
       "Vanuatu                         0.000000\n",
       "Venezuela                      11.923077\n",
       "Vietnam                       243.324074\n",
       "Virgin Islands (USA)           60.416667\n",
       "Yemen                       10000.000000\n",
       "Zimbabwe                       23.125000\n",
       "Name: MoneyPerMonth, Length: 137, dtype: float64"
      ]
     },
     "execution_count": 96,
     "metadata": {},
     "output_type": "execute_result"
    }
   ],
   "source": [
    "average_spending = clean_survey.groupby(by='CountryLive')['MoneyPerMonth'].mean()\n",
    "average_spending"
   ]
  },
  {
   "cell_type": "code",
   "execution_count": 98,
   "metadata": {
    "collapsed": false
   },
   "outputs": [
    {
     "data": {
      "text/plain": [
       "CountryLive\n",
       "Yemen                       10000.000000\n",
       "Puerto Rico                  4291.394558\n",
       "Austria                       936.208333\n",
       "Spain                         784.553084\n",
       "Jamaica                       747.037037\n",
       "Hong Kong                     523.341049\n",
       "Trinidad & Tobago             500.000000\n",
       "Australia                     419.268452\n",
       "Taiwan                        417.966524\n",
       "Luxembourg                    338.817664\n",
       "Norway                        318.914815\n",
       "New Zealand                   316.171958\n",
       "Chile                         300.416667\n",
       "Israel                        298.130787\n",
       "Russia                        284.615280\n",
       "Portugal                      277.752763\n",
       "Uganda                        276.620370\n",
       "Vietnam                       243.324074\n",
       "Bangladesh                    239.361883\n",
       "Niger                         239.303571\n",
       "Nigeria                       237.303388\n",
       "China                         236.441270\n",
       "United States of America      227.997996\n",
       "Dominican Republic            201.178266\n",
       "Somalia                       150.000000\n",
       "Nicaragua                     150.000000\n",
       "Saudi Arabia                  142.361111\n",
       "India                         135.100982\n",
       "Papua New Guinea              125.000000\n",
       "Angola                        116.666667\n",
       "                                ...     \n",
       "Guatemala                       0.405405\n",
       "Estonia                         0.142857\n",
       "Iceland                         0.034483\n",
       "Algeria                         0.000000\n",
       "Anguilla                        0.000000\n",
       "Botswana                        0.000000\n",
       "Bahrain                         0.000000\n",
       "Kyrgyzstan                      0.000000\n",
       "Cayman Islands                  0.000000\n",
       "Channel Islands                 0.000000\n",
       "Cuba                            0.000000\n",
       "Ecuador                         0.000000\n",
       "Georgia                         0.000000\n",
       "Guadeloupe                      0.000000\n",
       "Haiti                           0.000000\n",
       "Honduras                        0.000000\n",
       "Jordan                          0.000000\n",
       "Mozambique                      0.000000\n",
       "Nambia                          0.000000\n",
       "Netherland Antilles             0.000000\n",
       "Samoa                           0.000000\n",
       "Turkmenistan                    0.000000\n",
       "Vanuatu                         0.000000\n",
       "Afghanistan                     0.000000\n",
       "Aruba                                NaN\n",
       "Bolivia                              NaN\n",
       "Liberia                              NaN\n",
       "Panama                               NaN\n",
       "Qatar                                NaN\n",
       "Sudan                                NaN\n",
       "Name: MoneyPerMonth, Length: 137, dtype: float64"
      ]
     },
     "execution_count": 98,
     "metadata": {},
     "output_type": "execute_result"
    }
   ],
   "source": [
    "average_spending.sort_values(ascending=False)"
   ]
  },
  {
   "cell_type": "markdown",
   "metadata": {},
   "source": [
    "Next we will restrict our analysis to the US, India, the UK and Canada."
   ]
  },
  {
   "cell_type": "code",
   "execution_count": 101,
   "metadata": {
    "collapsed": false
   },
   "outputs": [
    {
     "data": {
      "text/plain": [
       "CountryLive\n",
       "United States of America    227.997996\n",
       "India                       135.100982\n",
       "United Kingdom               45.534443\n",
       "Canada                      113.510961\n",
       "Name: MoneyPerMonth, dtype: float64"
      ]
     },
     "execution_count": 101,
     "metadata": {},
     "output_type": "execute_result"
    }
   ],
   "source": [
    "focus_countries = ['United States of America', 'India', 'United Kingdom', 'Canada']\n",
    "average_spending[focus_countries]"
   ]
  },
  {
   "cell_type": "code",
   "execution_count": 151,
   "metadata": {
    "collapsed": false
   },
   "outputs": [],
   "source": [
    "clean_survey_interest = clean_survey[clean_survey['CountryLive'].str.contains(\n",
    "    'United States of America|India|United Kingdom|Canada')]"
   ]
  },
  {
   "cell_type": "code",
   "execution_count": 121,
   "metadata": {
    "collapsed": false
   },
   "outputs": [
    {
     "name": "stderr",
     "output_type": "stream",
     "text": [
      "/dataquest/system/env/python3/lib/python3.4/site-packages/seaborn/categorical.py:454: FutureWarning: remove_na is deprecated and is a private function. Do not use.\n",
      "  box_data = remove_na(group_data)\n"
     ]
    },
    {
     "data": {
      "text/plain": [
       "<matplotlib.text.Text at 0x7f21ff8ae7f0>"
      ]
     },
     "execution_count": 121,
     "metadata": {},
     "output_type": "execute_result"
    },
    {
     "data": {
      "image/png": "[encoded data removed]",
      "text/plain": [
       "<matplotlib.figure.Figure at 0x7f21ff968c88>"
      ]
     },
     "metadata": {},
     "output_type": "display_data"
    }
   ],
   "source": [
    "import seaborn as sns\n",
    "sns.boxplot(data= clean_survey_interest, x='CountryLive', y='MoneyPerMonth')\n",
    "plt.title('Money spent per month (dollars)', fontsize=20)\n",
    "plt.xlabel('')\n",
    "plt.ylabel('')"
   ]
  },
  {
   "cell_type": "markdown",
   "metadata": {},
   "source": [
    "Next we eliminate the extreme outliers."
   ]
  },
  {
   "cell_type": "code",
   "execution_count": 127,
   "metadata": {
    "collapsed": true
   },
   "outputs": [],
   "source": [
    "clean_survey_interest = clean_survey_interest[clean_survey_interest['MoneyPerMonth'] < 6000]"
   ]
  },
  {
   "cell_type": "code",
   "execution_count": 128,
   "metadata": {
    "collapsed": false
   },
   "outputs": [
    {
     "data": {
      "text/plain": [
       "CountryLive\n",
       "Canada                      113.510961\n",
       "India                       113.748387\n",
       "United Kingdom               45.534443\n",
       "United States of America    142.654608\n",
       "Name: MoneyPerMonth, dtype: float64"
      ]
     },
     "execution_count": 128,
     "metadata": {},
     "output_type": "execute_result"
    }
   ],
   "source": [
    "clean_survey_interest.groupby(by='CountryLive')['MoneyPerMonth'].mean()"
   ]
  },
  {
   "cell_type": "code",
   "execution_count": 129,
   "metadata": {
    "collapsed": false
   },
   "outputs": [
    {
     "name": "stderr",
     "output_type": "stream",
     "text": [
      "/dataquest/system/env/python3/lib/python3.4/site-packages/seaborn/categorical.py:454: FutureWarning: remove_na is deprecated and is a private function. Do not use.\n",
      "  box_data = remove_na(group_data)\n"
     ]
    },
    {
     "data": {
      "text/plain": [
       "<matplotlib.text.Text at 0x7f21ff65c438>"
      ]
     },
     "execution_count": 129,
     "metadata": {},
     "output_type": "execute_result"
    },
    {
     "data": {
      "image/png": "[encoded data removed]",
      "text/plain": [
       "<matplotlib.figure.Figure at 0x7f21ff835fd0>"
      ]
     },
     "metadata": {},
     "output_type": "display_data"
    }
   ],
   "source": [
    "sns.boxplot(data= clean_survey_interest, x='CountryLive', y='MoneyPerMonth')\n",
    "plt.title('Money spent per month (dollars)\\nOutliers removed', fontsize=20)\n",
    "plt.xlabel('')\n",
    "plt.ylabel('')"
   ]
  },
  {
   "cell_type": "markdown",
   "metadata": {},
   "source": [
    "Next we remove a few more outliers."
   ]
  },
  {
   "cell_type": "code",
   "execution_count": 152,
   "metadata": {
    "collapsed": false
   },
   "outputs": [
    {
     "name": "stderr",
     "output_type": "stream",
     "text": [
      "/dataquest/system/env/python3/lib/python3.4/site-packages/seaborn/categorical.py:454: FutureWarning: remove_na is deprecated and is a private function. Do not use.\n",
      "  box_data = remove_na(group_data)\n"
     ]
    },
    {
     "data": {
      "text/plain": [
       "<matplotlib.text.Text at 0x7f21ff54a630>"
      ]
     },
     "execution_count": 152,
     "metadata": {},
     "output_type": "execute_result"
    },
    {
     "data": {
      "image/png": "[encoded data removed]",
      "text/plain": [
       "<matplotlib.figure.Figure at 0x7f21ff4b0a90>"
      ]
     },
     "metadata": {},
     "output_type": "display_data"
    }
   ],
   "source": [
    "boolean_USA = (clean_survey_interest['CountryLive'] == 'United States of America') & (clean_survey_interest['MoneyPerMonth'] < 4000)\n",
    "boolean_india = (clean_survey_interest['CountryLive'] == 'India') & (clean_survey_interest['MoneyPerMonth'] < 2000)\n",
    "boolean_canada = (clean_survey_interest['CountryLive'] == 'Canada') & (clean_survey_interest['MoneyPerMonth'] < 2000)\n",
    "boolean_uk = (clean_survey_interest['CountryLive'] == 'United Kingdom') & (clean_survey_interest['MoneyPerMonth'] < 2000)\n",
    "clean_survey_interest = clean_survey_interest[boolean_USA | boolean_india | boolean_canada | boolean_uk] \n",
    "\n",
    "sns.boxplot(data= clean_survey_interest, x='CountryLive', y='MoneyPerMonth')\n",
    "plt.title('Money spent per month (dollars)', fontsize=20)\n",
    "plt.xlabel('')\n",
    "plt.ylabel('')"
   ]
  },
  {
   "cell_type": "code",
   "execution_count": 153,
   "metadata": {
    "collapsed": false
   },
   "outputs": [
    {
     "data": {
      "text/plain": [
       "CountryLive\n",
       "Canada                       75.550481\n",
       "India                        57.256604\n",
       "United Kingdom               45.534443\n",
       "United States of America    119.306296\n",
       "Name: MoneyPerMonth, dtype: float64"
      ]
     },
     "execution_count": 153,
     "metadata": {},
     "output_type": "execute_result"
    }
   ],
   "source": [
    "clean_survey_interest.groupby(by='CountryLive')['MoneyPerMonth'].mean()"
   ]
  },
  {
   "cell_type": "markdown",
   "metadata": {},
   "source": [
    "It is clear that the first country we should advertise in is the **USA**. However, it is less clear what other country the company should advertise in. Considering that the subscriptions that the company sells cost $59 per month, UK customers might not be inclined to spend that much. We conclude that both Canada and India are legitimate choices. Let us investigate further."
   ]
  },
  {
   "cell_type": "code",
   "execution_count": 155,
   "metadata": {
    "collapsed": false
   },
   "outputs": [
    {
     "data": {
      "text/plain": [
       "(237, 137)"
      ]
     },
     "execution_count": 155,
     "metadata": {},
     "output_type": "execute_result"
    }
   ],
   "source": [
    "clean_survey_interest[clean_survey_interest['CountryLive']=='Canada'].shape"
   ]
  },
  {
   "cell_type": "code",
   "execution_count": 156,
   "metadata": {
    "collapsed": false
   },
   "outputs": [
    {
     "data": {
      "text/plain": [
       "(455, 137)"
      ]
     },
     "execution_count": 156,
     "metadata": {},
     "output_type": "execute_result"
    }
   ],
   "source": [
    "clean_survey_interest[clean_survey_interest['CountryLive']=='India'].shape"
   ]
  },
  {
   "cell_type": "markdown",
   "metadata": {},
   "source": [
    "Both Canada and India contain a large number of possible customers, but India has significantly more. This suggests that, having to choose two markets in which to advertise, **USA** and **India** would be the preferred choices."
   ]
  },
  {
   "cell_type": "code",
   "execution_count": null,
   "metadata": {
    "collapsed": true
   },
   "outputs": [],
   "source": []
  }
 ],
 "metadata": {
  "kernelspec": {
   "display_name": "Python 3",
   "language": "python",
   "name": "python3"
  },
  "language_info": {
   "codemirror_mode": {
    "name": "ipython",
    "version": 3
   },
   "file_extension": ".py",
   "mimetype": "text/x-python",
   "name": "python",
   "nbconvert_exporter": "python",
   "pygments_lexer": "ipython3",
   "version": "3.4.3"
  }
 },
 "nbformat": 4,
 "nbformat_minor": 2
}
